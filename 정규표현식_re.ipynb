{
 "cells": [
  {
   "cell_type": "code",
   "execution_count": 1,
   "metadata": {},
   "outputs": [],
   "source": [
    "import re"
   ]
  },
  {
   "cell_type": "markdown",
   "metadata": {},
   "source": [
    "1. \\['abbbbba', 'cddb', 'aerb', 'aeeeb', 'almnj']\n",
    "(모두 문자열)일 때 1, 3번째만 True를 리턴하는 정규표현식을 작성하시오"
   ]
  },
  {
   "cell_type": "code",
   "execution_count": 2,
   "metadata": {
    "tags": []
   },
   "outputs": [
    {
     "name": "stdout",
     "output_type": "stream",
     "text": [
      "<re.Match object; span=(0, 7), match='abbbbba'>\n",
      "None\n",
      "<re.Match object; span=(0, 4), match='aerb'>\n",
      "None\n",
      "None\n"
     ]
    }
   ],
   "source": [
    "a = ['abbbbba', 'cddb', 'aerb', 'aeeeb', 'almnj']\n",
    "\n",
    "p = re.compile('a..b.*')\n",
    "\n",
    "for i in a:\n",
    "    print(p.match(i))"
   ]
  },
  {
   "cell_type": "code",
   "execution_count": 3,
   "metadata": {},
   "outputs": [
    {
     "name": "stdout",
     "output_type": "stream",
     "text": [
      "<re.Match object; span=(0, 4), match='abbb'>\n",
      "None\n",
      "<re.Match object; span=(0, 4), match='aerb'>\n",
      "None\n",
      "None\n"
     ]
    }
   ],
   "source": [
    "## 글자수만큼  .을 찍고 있을 시간이 없다!!\n",
    "\n",
    "ls = ['abbbbba', 'cddb', 'aerb', 'aeeeb', 'almnj']\n",
    "\n",
    "p = re.compile('a.{2}b')\n",
    "\n",
    "for i in ls:\n",
    "    print(p.match(i))"
   ]
  },
  {
   "cell_type": "markdown",
   "metadata": {},
   "source": [
    "2. \\['abcd efghopqr-stuv', 'abcd-efgh', 'abc defghijk', 'ab cdhijk'] 일 때 1, 3, 4번째만 match되도록 정규표현식을 작성하시오."
   ]
  },
  {
   "cell_type": "code",
   "execution_count": 4,
   "metadata": {
    "tags": []
   },
   "outputs": [
    {
     "name": "stdout",
     "output_type": "stream",
     "text": [
      "<re.Match object; span=(0, 18), match='abcd efghopqr-stuv'>\n",
      "None\n",
      "<re.Match object; span=(0, 12), match='abc defghijk'>\n",
      "<re.Match object; span=(0, 9), match='ab cdhijk'>\n"
     ]
    }
   ],
   "source": [
    "a = ['abcd efghopqr-stuv', 'abcd-efgh', 'abc defghijk', 'ab cdhijk']\n",
    "\n",
    "p = re.compile('a.+\\s.+')\n",
    "\n",
    "for i in a:\n",
    "    print(p.match(i))"
   ]
  },
  {
   "cell_type": "code",
   "execution_count": 5,
   "metadata": {},
   "outputs": [
    {
     "name": "stdout",
     "output_type": "stream",
     "text": [
      "<re.Match object; span=(0, 13), match='abcd efghopqr'>\n",
      "None\n",
      "<re.Match object; span=(0, 12), match='abc defghijk'>\n",
      "<re.Match object; span=(0, 9), match='ab cdhijk'>\n"
     ]
    }
   ],
   "source": [
    "## 문자 클래스를 사용해서 구분하는 기준을 명시하자!!!\n",
    "\n",
    "ls = ['abcd efghopqr-stuv', 'abcd-efgh', 'abc defghijk', 'ab cdhijk']\n",
    "\n",
    "p = re.compile('\\w+\\s\\w+')\n",
    "\n",
    "for i in a:\n",
    "    print(p.match(i))"
   ]
  },
  {
   "cell_type": "markdown",
   "metadata": {},
   "source": [
    "3. 그룹을 사용해서 \\['코끼리는 코끼리', '강아지는 강아지', '고양이는 고양이'] 모두에게 True를 리턴하는 정규표현식을 작성하고, 주어들을 순서대로 출력하세요."
   ]
  },
  {
   "cell_type": "code",
   "execution_count": 6,
   "metadata": {
    "tags": []
   },
   "outputs": [
    {
     "name": "stdout",
     "output_type": "stream",
     "text": [
      "코끼리\n",
      "강아지\n",
      "고양이\n"
     ]
    }
   ],
   "source": [
    "ls = ['코끼리는 코끼리', '강아지는 강아지', '고양이는 고양이']\n",
    "\n",
    "p = re.compile('(?P<name>)는\\s.+')\n",
    "\n",
    "for i in ls:\n",
    "    print(p.sub('\\g<name>',i))"
   ]
  },
  {
   "cell_type": "code",
   "execution_count": 7,
   "metadata": {},
   "outputs": [
    {
     "name": "stdout",
     "output_type": "stream",
     "text": [
      "<re.Match object; span=(0, 8), match='코끼리는 코끼리'>\n",
      "코끼리\n",
      "<re.Match object; span=(0, 8), match='강아지는 강아지'>\n",
      "강아지\n",
      "<re.Match object; span=(0, 8), match='고양이는 고양이'>\n",
      "고양이\n"
     ]
    }
   ],
   "source": [
    "ls = ['코끼리는 코끼리', '강아지는 강아지', '고양이는 고양이']\n",
    "\n",
    "p = re.compile(r'(?P<name>.+)는\\s\\1')\n",
    "\n",
    "for i in ls:\n",
    "    matched = p.match(i)\n",
    "    print(matched)\n",
    "    print(matched.group(1))\n",
    "    \n",
    "## 현재 그룹이 된 것은 1개 밖에 없다 (동일한 그룹을 사용했지 때문!)"
   ]
  },
  {
   "cell_type": "code",
   "execution_count": 8,
   "metadata": {},
   "outputs": [
    {
     "name": "stdout",
     "output_type": "stream",
     "text": [
      "<re.Match object; span=(0, 8), match='코끼리는 코끼리'>\n",
      "코끼리\n",
      "<re.Match object; span=(0, 8), match='강아지는 강아지'>\n",
      "강아지\n",
      "<re.Match object; span=(0, 8), match='고양이는 고양이'>\n",
      "고양이\n"
     ]
    }
   ],
   "source": [
    "ls = ['코끼리는 코끼리', '강아지는 강아지', '고양이는 고양이']\n",
    "\n",
    "p = re.compile(r'(?P<name>.+)는\\s(?P<object>.+)')\n",
    "\n",
    "for i in ls:\n",
    "    matched = p.match(i)\n",
    "    print(matched)\n",
    "    print(matched.group(2))"
   ]
  },
  {
   "cell_type": "code",
   "execution_count": 9,
   "metadata": {},
   "outputs": [
    {
     "name": "stdout",
     "output_type": "stream",
     "text": [
      "코끼리는\n",
      "강아지는\n",
      "고양이는\n"
     ]
    }
   ],
   "source": [
    "ls = ['코끼리는 코끼리', '강아지는 강아지', '고양이는 고양이']\n",
    "\n",
    "p = re.compile(r'(?P<S>\\w+)\\s.+')\n",
    "               \n",
    "for i in ls:\n",
    "    print(p.match(i).group(1))"
   ]
  },
  {
   "cell_type": "markdown",
   "metadata": {},
   "source": [
    "4. \\['김준태 - 학점 2.0', '이재화 - 학점 3.0', '최주원 - 학점 4.0']에서 학점을 모두 4.5로 바꿔주세요!"
   ]
  },
  {
   "cell_type": "code",
   "execution_count": 10,
   "metadata": {},
   "outputs": [
    {
     "name": "stdout",
     "output_type": "stream",
     "text": [
      "<re.Match object; span=(0, 12), match='김준태 - 학점 2.0'>\n",
      "김준태 - 학점 4.5\n",
      "학점 2.0\n",
      "<re.Match object; span=(0, 12), match='이재화 - 학점 3.0'>\n",
      "이재화 - 학점 4.5\n",
      "학점 3.0\n",
      "<re.Match object; span=(0, 12), match='최주원 - 학점 4.0'>\n",
      "최주원 - 학점 4.5\n",
      "학점 4.0\n"
     ]
    }
   ],
   "source": [
    "ls = ['김준태 - 학점 2.0', '이재화 - 학점 3.0', '최주원 - 학점 4.0']\n",
    "\n",
    "p = re.compile(r'(?P<name>\\w+)\\s.\\s(?P<score>.+)')\n",
    "\n",
    "for i in ls:\n",
    "    matched = p.match(i)\n",
    "    print(matched)\n",
    "    print(p.sub(r'\\g<name> - 학점 4.5', i))\n",
    "    print(matched.group(2))"
   ]
  },
  {
   "cell_type": "code",
   "execution_count": 11,
   "metadata": {},
   "outputs": [
    {
     "name": "stdout",
     "output_type": "stream",
     "text": [
      "<re.Match object; span=(0, 12), match='김준태 - 학점 2.0'>\n",
      "김준태 - 학점 4.5\n",
      "<re.Match object; span=(0, 12), match='이재화 - 학점 3.0'>\n",
      "이재화 - 학점 4.5\n",
      "<re.Match object; span=(0, 12), match='최주원 - 학점 4.0'>\n",
      "최주원 - 학점 4.5\n"
     ]
    }
   ],
   "source": [
    "## 바꿀 것 빼고 모두 다 <rest> 그룹화 시키자 !!\n",
    "\n",
    "ls = ['김준태 - 학점 2.0', '이재화 - 학점 3.0', '최주원 - 학점 4.0']\n",
    "\n",
    "p = re.compile(r'(?P<rest>.+\\s.\\s).+')\n",
    "\n",
    "for i in ls:\n",
    "    matched = p.match(i)\n",
    "    print(matched)\n",
    "    print(p.sub(\"\\g<rest>학점 4.5\",i))"
   ]
  },
  {
   "cell_type": "markdown",
   "metadata": {},
   "source": [
    "5. <div id=\"u_skip\"> <a href=\"#newsstand\"><span>뉴스스탠드 바로가기</span></a> <a href=\"#themecast\"><span>주제별캐스트 바로가기</span></a> <a href=\"#timesquare\"><span>타임스퀘어 바로가기</span></a> <a href=\"#shopcast\"><span>쇼핑캐스트 바로가기</span></a> <a href=\"#account\"><span>로그인 바로가기</span></a> </div> 에서 사용된 모든 태그(<>)를 출력하세요. "
   ]
  },
  {
   "cell_type": "code",
   "execution_count": 12,
   "metadata": {
    "tags": []
   },
   "outputs": [
    {
     "data": {
      "text/plain": [
       "['<div id=\"u_skip\"> <a href=\"#newsstand\"><span>뉴스스탠드 바로가기</span></a> <a href=\"#themecast\"><span>주제별캐스트 바로가기</span></a> <a href=\"#timesquare\"><span>타임스퀘어 바로가기</span></a> <a href=\"#shopcast\"><span>쇼핑캐스트 바로가기</span></a> <a href=\"#account\"><span>로그인 바로가기</span></a> </div>']"
      ]
     },
     "execution_count": 12,
     "metadata": {},
     "output_type": "execute_result"
    }
   ],
   "source": [
    "a = '<div id=\"u_skip\"> <a href=\"#newsstand\"><span>뉴스스탠드 바로가기</span></a> <a href=\"#themecast\"><span>주제별캐스트 바로가기</span></a> <a href=\"#timesquare\"><span>타임스퀘어 바로가기</span></a> <a href=\"#shopcast\"><span>쇼핑캐스트 바로가기</span></a> <a href=\"#account\"><span>로그인 바로가기</span></a> </div>'\n",
    "\n",
    "p = re.compile('<.+>')\n",
    "\n",
    "p.findall(a)"
   ]
  },
  {
   "cell_type": "code",
   "execution_count": 13,
   "metadata": {},
   "outputs": [
    {
     "data": {
      "text/plain": [
       "['<div id=\"u_skip\">',\n",
       " '<a href=\"#newsstand\">',\n",
       " '<span>',\n",
       " '</span>',\n",
       " '</a>',\n",
       " '<a href=\"#themecast\">',\n",
       " '<span>',\n",
       " '</span>',\n",
       " '</a>',\n",
       " '<a href=\"#timesquare\">',\n",
       " '<span>',\n",
       " '</span>',\n",
       " '</a>',\n",
       " '<a href=\"#shopcast\">',\n",
       " '<span>',\n",
       " '</span>',\n",
       " '</a>',\n",
       " '<a href=\"#account\">',\n",
       " '<span>',\n",
       " '</span>',\n",
       " '</a>',\n",
       " '</div>']"
      ]
     },
     "execution_count": 13,
     "metadata": {},
     "output_type": "execute_result"
    }
   ],
   "source": [
    "##  ?  \n",
    "a = '<div id=\"u_skip\"> <a href=\"#newsstand\"><span>뉴스스탠드 바로가기</span></a> <a href=\"#themecast\"><span>주제별캐스트 바로가기</span></a> <a href=\"#timesquare\"><span>타임스퀘어 바로가기</span></a> <a href=\"#shopcast\"><span>쇼핑캐스트 바로가기</span></a> <a href=\"#account\"><span>로그인 바로가기</span></a> </div>'\n",
    "\n",
    "p = re.compile('<.+?>')\n",
    "\n",
    "p.findall(a)\n",
    "\n",
    "## non-greedy문자 ?를 사용하면 {*,+}의 탐욕을 제한함"
   ]
  },
  {
   "cell_type": "markdown",
   "metadata": {},
   "source": [
    "6. '1100+1200+1300+1800=5400' 이라는 문장에서 등호표시 전의 숫자만 8진법으로 변경하세요."
   ]
  },
  {
   "cell_type": "code",
   "execution_count": 14,
   "metadata": {},
   "outputs": [
    {
     "name": "stdout",
     "output_type": "stream",
     "text": [
      "<re.Match object; span=(0, 24), match='1100+1200+1300+1800=5400'>\n"
     ]
    }
   ],
   "source": [
    "# 실습 6  등호표시 전의 숫자만 8진법으로 변경\n",
    "\n",
    "a = '1100+1200+1300+1800=5400'\n",
    "\n",
    "p = re.compile('.+\\+.+\\+.+\\+(?P<num>\\d+)=.+')\n",
    "\n",
    "matched = p.match(a)\n",
    "\n",
    "print(matched)\n",
    "\n",
    "#b(match)\n",
    "#p.sub(b,a)\n",
    "#p.sub(bin(int('\\g<num>'), a))"
   ]
  },
  {
   "cell_type": "code",
   "execution_count": 15,
   "metadata": {
    "tags": []
   },
   "outputs": [],
   "source": [
    "# a = '1100+1200+1300+1800=5400'\n",
    "\n",
    "# p = re.compile('1\\d{3}')\n",
    "\n",
    "# matched = p.findall(a)\n",
    "\n",
    "# print(matched)\n",
    "\n",
    "# def octa(x):\n",
    "#     return bin(x)\n",
    "\n",
    "# p.sub(octa(mathed), a)"
   ]
  },
  {
   "cell_type": "code",
   "execution_count": 16,
   "metadata": {},
   "outputs": [
    {
     "name": "stdout",
     "output_type": "stream",
     "text": [
      "0o2114+0o2260+0o2424+0o3410=5400\n"
     ]
    }
   ],
   "source": [
    "def octa(match):\n",
    "    a = int(match.group())\n",
    "    return oct(a)\n",
    "\n",
    "a = '1100+1200+1300+1800=5400'\n",
    "\n",
    "p = re.compile('1\\d{3}')\n",
    "\n",
    "print(p.sub(octa, a))\n",
    "\n",
    "## sub 작동 순서"
   ]
  },
  {
   "cell_type": "code",
   "execution_count": 20,
   "metadata": {},
   "outputs": [
    {
     "name": "stdout",
     "output_type": "stream",
     "text": [
      "123Dave\n"
     ]
    }
   ],
   "source": [
    "## 문자, 숫자가 아닌 데이터를 찾아서. \"\"로 대체해라\n",
    "\n",
    "a = \"12(3Dave)\"\n",
    "\n",
    "p = re.compile('[^\\w\\d]')\n",
    "\n",
    "print(p.sub(\"\",a))\n",
    "\n",
    "## 패턴에 있는 것을 모두 다 찾아서 sub로 바꾸어라!"
   ]
  },
  {
   "cell_type": "code",
   "execution_count": 79,
   "metadata": {},
   "outputs": [],
   "source": [
    "## 1) 앞에 문자가 없거나, 2) 여러번 반복되고 마지막이 A인 문자열\n",
    "## ? 사용법"
   ]
  },
  {
   "cell_type": "markdown",
   "metadata": {},
   "source": [
    "7. \\['https://naver.com', 'https://korea.ac.kr', 'https://www.google.com', 'google.com', 'https://facebook.com', 'naver.com'] 에서 https로 시작하고, www.이 없고, 마지막이 .com으로 끝나는 주소만 True를 리턴하는 정규표현식을 작성하세요."
   ]
  },
  {
   "cell_type": "code",
   "execution_count": 30,
   "metadata": {
    "tags": []
   },
   "outputs": [
    {
     "name": "stdout",
     "output_type": "stream",
     "text": [
      "<re.Match object; span=(0, 17), match='https://naver.com'>\n",
      "None\n",
      "None\n",
      "None\n",
      "<re.Match object; span=(0, 20), match='https://facebook.com'>\n",
      "None\n"
     ]
    }
   ],
   "source": [
    "ls = ['https://naver.com', 'https://korea.ac.kr', 'https://www.google.com', 'google.com', 'https://facebook.com', 'naver.com']\n",
    "\n",
    "p = re.compile('https.{3}[^www].+\\.com')\n",
    "\n",
    "for i in ls:\n",
    "    print(p.match(i))\n",
    "    \n",
    "## 포함하지 않은 기호 ^를 쓸 때는 대괄호는 반드시 하자!"
   ]
  },
  {
   "cell_type": "code",
   "execution_count": 32,
   "metadata": {},
   "outputs": [
    {
     "name": "stdout",
     "output_type": "stream",
     "text": [
      "<re.Match object; span=(0, 17), match='https://naver.com'>\n",
      "None\n",
      "None\n",
      "None\n",
      "<re.Match object; span=(0, 20), match='https://facebook.com'>\n",
      "None\n"
     ]
    }
   ],
   "source": [
    "ls = ['https://naver.com', 'https://korea.ac.kr', 'https://www.google.com', 'google.com', 'https://facebook.com', 'naver.com']\n",
    "\n",
    "p = re.compile('^https://[^www]+.com$')\n",
    "\n",
    "for i in ls:\n",
    "    matched = p.match(i)\n",
    "    print(matched)"
   ]
  },
  {
   "cell_type": "markdown",
   "metadata": {},
   "source": [
    "8. a = '''mike 010-1234-0907 mikeman@naver.com hi! my name is mike!\n",
    "jay 010-1112-3456 jayman@naver.com hi! my name is jay!\n",
    "yohan 010-2223-5874 yohanman@naver.com hi! my name is yohan!'''\n",
    "위 문장에서 순서 배치를 전화번호, 이메일, 자기소개, 이름 순서로 변경하시오."
   ]
  },
  {
   "cell_type": "code",
   "execution_count": 75,
   "metadata": {
    "tags": []
   },
   "outputs": [
    {
     "data": {
      "text/plain": [
       "<re.Match object; span=(0, 173), match='mike 010-1234-0907 mikeman@naver.com hi! my name >"
      ]
     },
     "execution_count": 75,
     "metadata": {},
     "output_type": "execute_result"
    }
   ],
   "source": [
    "a = '''mike 010-1234-0907 mikeman@naver.com hi! my name is mike!\n",
    "jay 010-1112-3456 jayman@naver.com hi! my name is jay!\n",
    "yohan 010-2223-5874 yohanman@naver.com hi! my name is yohan!'''\n",
    "\n",
    "#p = re.compile(r'(?P<name>.+)\\s?(?P<phone>.+)\\s(?P<email>.+)\\s(?P<intro>.+)\\n')\n",
    "p = re.compile(r'(?P<name>.+)\\s?(?P<phone>.+)\\s(?P<email>.+)\\s(?P<intro>.+)')\n",
    "\n",
    "p.match(a)\n",
    "\n",
    "# for i in a:\n",
    "#     print(p.sub('(\\g<phone>)\\s(\\g<email>)\\s(\\g<intro>)\\s(\\g<name>)', a))\n",
    "\n",
    "## \\n 띄어쓰기를 쓰지마라!! 없는 패턴도 있잖아?\n",
    "# ......"
   ]
  },
  {
   "cell_type": "code",
   "execution_count": 76,
   "metadata": {},
   "outputs": [
    {
     "name": "stdout",
     "output_type": "stream",
     "text": [
      "[('mike 010-1234-0907 mikeman@naver.com hi! my name is mike!', 'jay 010-1112-3456 jayman@naver.com hi! my name is jay!', 'yohan 010-2223-5874 yohanman@naver.com hi! my name is', 'yohan!')]\n"
     ]
    }
   ],
   "source": [
    "matched = p.findall(a)\n",
    "print(matched)"
   ]
  },
  {
   "cell_type": "code",
   "execution_count": 77,
   "metadata": {},
   "outputs": [
    {
     "data": {
      "text/plain": [
       "'jay 010-1112-3456 jayman@naver.com hi! my name is jay! yohan 010-2223-5874 yohanman@naver.com hi! my name is yohan! mike 010-1234-0907 mikeman@naver.com hi! my name is mike! '"
      ]
     },
     "execution_count": 77,
     "metadata": {},
     "output_type": "execute_result"
    }
   ],
   "source": [
    "##  바꾸는 자리에 패턴을 사용할 필요없다!!!\n",
    "\n",
    "p.sub('\\g<phone> \\g<email> \\g<intro> \\g<name> ', a)"
   ]
  },
  {
   "cell_type": "code",
   "execution_count": 78,
   "metadata": {},
   "outputs": [
    {
     "name": "stdout",
     "output_type": "stream",
     "text": [
      "[('mike', '010-1234-0907', 'mikeman@naver.com', 'hi! my name is mike!'), ('jay', '010-1112-3456', 'jayman@naver.com', 'hi! my name is jay!'), ('yohan', '010-2223-5874', 'yohanman@naver.com', 'hi! my name is yohan!')]\n"
     ]
    }
   ],
   "source": [
    "a = '''mike 010-1234-0907 mikeman@naver.com hi! my name is mike!\n",
    "jay 010-1112-3456 jayman@naver.com hi! my name is jay!\n",
    "yohan 010-2223-5874 yohanman@naver.com hi! my name is yohan!'''\n",
    "\n",
    "p = re.compile(r'(?P<name>.+)\\s(?P<phone>\\d+.\\d+.\\d+)\\s(?P<mail>.+.com)\\s(?P<intro>.+)')\n",
    "\n",
    "matched = p.findall(a)\n",
    "print(matched)"
   ]
  },
  {
   "cell_type": "code",
   "execution_count": 55,
   "metadata": {},
   "outputs": [
    {
     "data": {
      "text/plain": [
       "'010-1234-0907 mikeman@naver.com hi! my name is mike! mike \\n010-1112-3456 jayman@naver.com hi! my name is jay! jay \\n010-2223-5874 yohanman@naver.com hi! my name is yohan! yohan '"
      ]
     },
     "execution_count": 55,
     "metadata": {},
     "output_type": "execute_result"
    }
   ],
   "source": [
    "p.sub('\\g<phone> \\g<mail> \\g<intro> \\g<name> ', a)"
   ]
  },
  {
   "cell_type": "markdown",
   "metadata": {},
   "source": [
    "### 정규표현식(Regular expression)"
   ]
  },
  {
   "cell_type": "markdown",
   "metadata": {},
   "source": [
    "- 문자열 비교나 처리를 하기 위한 유용한 특수기호 표현식\n",
    "- 정규식은 그 자체로 하나의 언어이며 축약된 형식 언어의 한 종류이다"
   ]
  },
  {
   "cell_type": "markdown",
   "metadata": {},
   "source": [
    "#### 정규식 종류\n",
    "\n",
    "1. ^ 라인의 처음을 매칭(문자의 시작)\n",
    "2. $ 라인의 끝을 매칭(문장의 끝)\n",
    "3. . 임의의 문자를 매칭(와일드 카드)\n",
    "4. \\s 공백 문자를 매칭\n",
    "5. \\S 공백이 아닌 문자를 매칭\n",
    "6. \\* 바로 앞선 문자에 적용되고 0 혹은 그 이상의 앞선 문자와 매칭을 표기함\n",
    "<br> (앞의 문자가 여러번 반복 될 수 있다)\n",
    "7. \\*? 바로 앞선 문자에 적용되고 0 혹은 그 이상의 앞선 문자와 매칭을 탐욕적이지 않은 방식으로 표기함\n",
    "8. + 바로 앞선 문자에 적용되고 1 혹은 그 이상의 앞선 문자와 매칭을 표기함\n",
    "<br> (앞의 문자가 1번 이상 나타난다)\n",
    "9. +? 바로 앞선 문자에 적용되고 1 혹은 그 이상의 앞선 문자와 매칭을 탐욕적이지 않은 방식으로 표기함\n",
    "10. [aeiou] 명세된 집합 문자에 존재하는 단일 문자와 매칭\n",
    "11. [a-z0-9] -기호로 문자 범위를 명세할 수 있다\n",
    "12. () 괄호가 정규표현식에 추가될 때, 매칭을 무시한다. 하지만 findall()을 사용 할 때 전체 문자열보다 매칭된 문자열의 상세한 부속 문자열을 추출할 수 있게 한다"
   ]
  },
  {
   "cell_type": "markdown",
   "metadata": {},
   "source": [
    "#### 텍스트에서 문자 패턴 찾기"
   ]
  },
  {
   "cell_type": "code",
   "execution_count": 80,
   "metadata": {},
   "outputs": [],
   "source": [
    "# 특정 문자 패턴이 포함된 문장 찾기 .find()"
   ]
  },
  {
   "cell_type": "code",
   "execution_count": 81,
   "metadata": {},
   "outputs": [],
   "source": [
    "# 정규표현식을 사용해서는 re.search( '' , )"
   ]
  },
  {
   "cell_type": "code",
   "execution_count": 82,
   "metadata": {},
   "outputs": [],
   "source": [
    "# 특정 문자 패턴으로 시작하는 문장을 찾기 .startwith()"
   ]
  },
  {
   "cell_type": "code",
   "execution_count": 83,
   "metadata": {},
   "outputs": [],
   "source": [
    "# 정규표현식을 사용해서는 ^"
   ]
  },
  {
   "cell_type": "code",
   "execution_count": 84,
   "metadata": {},
   "outputs": [],
   "source": [
    "# 정규표현식 '[0-9]+' 숫자가 1번 이상 반복되는 패턴"
   ]
  },
  {
   "cell_type": "code",
   "execution_count": 85,
   "metadata": {},
   "outputs": [],
   "source": [
    "# 탐욕적 방식은 패턴과 일치하는 부분이 여러 개일 경우 가장 긴 패턴을 선택"
   ]
  },
  {
   "cell_type": "code",
   "execution_count": 86,
   "metadata": {},
   "outputs": [],
   "source": [
    "# -> 두가지 부분이 패턴과 일치하면 그 중 가장 긴 패턴을 선택함"
   ]
  },
  {
   "cell_type": "code",
   "execution_count": 87,
   "metadata": {},
   "outputs": [],
   "source": [
    "# 비탐욕적 방식은 패턴 뒤에 '?'를 붙이면 여러 대상 중 짧은 것을 선택 "
   ]
  },
  {
   "cell_type": "code",
   "execution_count": 88,
   "metadata": {},
   "outputs": [],
   "source": [
    "# 원하는 부분만 추출하기"
   ]
  },
  {
   "cell_type": "code",
   "execution_count": 89,
   "metadata": {},
   "outputs": [],
   "source": [
    "# 소괄호를 사용해서 패턴을 추출하는 방식"
   ]
  }
 ],
 "metadata": {
  "kernelspec": {
   "display_name": "Python 3",
   "language": "python",
   "name": "python3"
  },
  "language_info": {
   "codemirror_mode": {
    "name": "ipython",
    "version": 3
   },
   "file_extension": ".py",
   "mimetype": "text/x-python",
   "name": "python",
   "nbconvert_exporter": "python",
   "pygments_lexer": "ipython3",
   "version": "3.7.6"
  }
 },
 "nbformat": 4,
 "nbformat_minor": 4
}
